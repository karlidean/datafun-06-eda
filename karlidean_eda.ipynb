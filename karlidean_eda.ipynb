{
 "cells": [
  {
   "cell_type": "markdown",
   "id": "55600ab6",
   "metadata": {},
   "source": [
    "# Personal Exploratory Data Analysis Project\n",
    "\n",
    "### **Author:** Karli Dean\n",
    "### **Due Date:** October 3, 2025\n",
    "\n",
    "### **Purpose:** I belive that volleyball, though fun to watch and play, is an extremely technical sport and can be seen in more beauty through data analysis. Looking at a stat line, you can see that a player can receive recognition for their hitting percentage or their serving ability. However, the way we will look at volleyball will show us why household team names and lifelong fans exist through dynasty at a gameplay level."
   ]
  },
  {
   "cell_type": "code",
   "execution_count": 2,
   "id": "6eecd39b",
   "metadata": {},
   "outputs": [],
   "source": [
    "import matplotlib.pyplot as plt\n",
    "import pandas as pd\n",
    "import seaborn as sns\n",
    "import numpy as np"
   ]
  }
 ],
 "metadata": {
  "kernelspec": {
   "display_name": ".venv (3.13.7)",
   "language": "python",
   "name": "python3"
  },
  "language_info": {
   "codemirror_mode": {
    "name": "ipython",
    "version": 3
   },
   "file_extension": ".py",
   "mimetype": "text/x-python",
   "name": "python",
   "nbconvert_exporter": "python",
   "pygments_lexer": "ipython3",
   "version": "3.13.7"
  }
 },
 "nbformat": 4,
 "nbformat_minor": 5
}
